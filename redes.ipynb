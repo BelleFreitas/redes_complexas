{
  "nbformat": 4,
  "nbformat_minor": 0,
  "metadata": {
    "colab": {
      "name": "redes.ipynb",
      "provenance": []
    },
    "kernelspec": {
      "name": "python3",
      "display_name": "Python 3"
    }
  },
  "cells": [
    {
      "cell_type": "code",
      "metadata": {
        "id": "CLXcNHDVENYR"
      },
      "source": [
        "## Criando uma função para calcular o grau (k) e sua probabilidade de ocorrência com base na frequência \r\n",
        "def degree_distribution(GER):\r\n",
        "    vk = dict(GER.degree()) # criando um dicionário (lista) que identifica cada nó (identificador: valor, ..., identificador: valor); não sabemos a posição \r\n",
        "    vk = list(vk.values()) # pegando apenas os valores do grau (do dicionário criado)\r\n",
        "    maxk = np.max(vk) # maior grau da rede\r\n",
        "    mink = np.min(min) # menor grau da rede\r\n",
        "    kvalues = arange(0,maxk+1) # vetor com os possíveis valores de k (lembrando que é \"aberto\" na direita, não inclui o último elemento, por isso \"maxk+1\")\r\n",
        "    Pk = np.zeros(maxk+1) # P(k): vetor vazio (com zeros) com tamanho do maior grau da rede\r\n",
        "    for k in vk: # for para calcular a frequência de cada grau \r\n",
        "        Pk[k] = Pk[k] + 1\r\n",
        "    Pk = Pk/sum(Pk) # Pk = frequência de determinado grau dividido pela soma das frequências de cada grau\r\n",
        "    # Obs.: a soma dos elementos de P(k) deve ser igual a 1\r\n",
        "    print('Vetor com os possíveis valores de \"k\":', kvalues) \r\n",
        "    print('Probabilidade de cada grau \"k\" ocorrer:', Pk)\r\n",
        "    return kvalues,Pk"
      ],
      "execution_count": 1,
      "outputs": []
    }
  ]
}